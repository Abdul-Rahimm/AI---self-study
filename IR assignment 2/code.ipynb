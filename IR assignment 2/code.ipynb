{
 "cells": [
  {
   "cell_type": "code",
   "execution_count": 1,
   "metadata": {},
   "outputs": [
    {
     "ename": "ModuleNotFoundError",
     "evalue": "No module named 'nltk'",
     "output_type": "error",
     "traceback": [
      "\u001b[1;31m---------------------------------------------------------------------------\u001b[0m",
      "\u001b[1;31mModuleNotFoundError\u001b[0m                       Traceback (most recent call last)",
      "Cell \u001b[1;32mIn[1], line 1\u001b[0m\n\u001b[1;32m----> 1\u001b[0m \u001b[38;5;28;01mimport\u001b[39;00m \u001b[38;5;21;01mnltk\u001b[39;00m\n\u001b[0;32m      2\u001b[0m \u001b[38;5;28;01mfrom\u001b[39;00m \u001b[38;5;21;01mnltk\u001b[39;00m\u001b[38;5;21;01m.\u001b[39;00m\u001b[38;5;21;01mtokenize\u001b[39;00m \u001b[38;5;28;01mimport\u001b[39;00m word_tokenize\n\u001b[0;32m      3\u001b[0m \u001b[38;5;28;01mfrom\u001b[39;00m \u001b[38;5;21;01mnltk\u001b[39;00m\u001b[38;5;21;01m.\u001b[39;00m\u001b[38;5;21;01mstem\u001b[39;00m \u001b[38;5;28;01mimport\u001b[39;00m PorterStemmer, WordNetLemmatizer\n",
      "\u001b[1;31mModuleNotFoundError\u001b[0m: No module named 'nltk'"
     ]
    }
   ],
   "source": [
    "import nltk\n",
    "from nltk.tokenize import word_tokenize\n",
    "from nltk.stem import PorterStemmer, WordNetLemmatizer\n",
    "from collections import defaultdict\n",
    "from math import log, sqrt\n",
    "import os\n",
    "import re\n",
    "\n",
    "nltk.download('punkt')\n",
    "nltk.download('wordnet')\n",
    "\n",
    "stemmer = PorterStemmer()\n",
    "lemmatizer = WordNetLemmatizer()\n",
    "\n",
    "dir_path = r'ResearchPapers'\n",
    "stopwords = set()\n",
    "\n",
    "with open(\"Stopword-List.txt\", \"r\") as f:\n",
    "    stopwords = {word.strip() for word in f}\n",
    "\n",
    "documents = {}\n",
    "index = set()\n",
    "\n",
    "for filename in os.listdir(dir_path):\n",
    "    if os.path.isfile(os.path.join(dir_path, filename)):\n",
    "        with open(os.path.join(dir_path, filename), \"r\") as f:\n",
    "            text = re.sub(r'[^\\w\\s]|[\\d]', '', f.read())\n",
    "            words = word_tokenize(text)\n",
    "            temp_dict = defaultdict(int)\n",
    "            for word in words:\n",
    "                word = stemmer.stem(lemmatizer.lemmatize(word.casefold()))\n",
    "                if word not in stopwords and len(word) <= 11:\n",
    "                    temp_dict[word] += 1\n",
    "                    index.add(word)\n",
    "            documents[int(filename.replace(\".txt\", \"\"))] = dict(temp_dict)\n",
    "\n",
    "index = sorted(index)\n",
    "vsm = {}\n",
    "df = defaultdict(int)\n",
    "\n",
    "for filename, doc in documents.items():\n",
    "    temp_vector = [doc.get(word, 0) for word in index]\n",
    "    vsm[filename] = temp_vector\n",
    "    for word in doc:\n",
    "        df[word] += 1\n",
    "\n",
    "idf = [log(len(vsm) / df[word], 10) for word in index]\n",
    "\n",
    "for doc_id, vector in vsm.items():\n",
    "    mag = sqrt(sum(val ** 2 for val in vector))\n",
    "    vsm[doc_id] = [(1 + log(freq, 10)) * idf[idx] / mag if freq else 0 for idx, freq in enumerate(vector)]"
   ]
  },
  {
   "cell_type": "code",
   "execution_count": null,
   "metadata": {},
   "outputs": [],
   "source": [
    "import numpy as np\n",
    "\n",
    "def process_query(query, index, vsm):\n",
    "    query_vector = [query.count(word) for word in index]\n",
    "    mag = np.sqrt(np.sum(np.square(query_vector)))\n",
    "    query_vector = [val / mag for val in query_vector]\n",
    "\n",
    "    doc_rank = {doc_id: np.dot(vsm[doc_id], query_vector) for doc_id in vsm}\n",
    "    sorted_doc_rank = sorted(doc_rank.items(), key=lambda x: x[1], reverse=True)\n",
    "    \n",
    "    alpha = 0.0005\n",
    "    result = [doc_id for doc_id, score in sorted_doc_rank if score > alpha]\n",
    "    return result\n",
    "\n",
    "query = str(input(\"Enter the Query: \"))\n",
    "query = [stemmer.stem(lemmatizer.lemmatize(word.casefold())) for word in word_tokenize(query)]\n",
    "\n",
    "result = process_query(query, index, vsm)\n",
    "print(result)"
   ]
  }
 ],
 "metadata": {
  "kernelspec": {
   "display_name": "Python 3",
   "language": "python",
   "name": "python3"
  },
  "language_info": {
   "codemirror_mode": {
    "name": "ipython",
    "version": 3
   },
   "file_extension": ".py",
   "mimetype": "text/x-python",
   "name": "python",
   "nbconvert_exporter": "python",
   "pygments_lexer": "ipython3",
   "version": "3.12.2"
  }
 },
 "nbformat": 4,
 "nbformat_minor": 2
}
