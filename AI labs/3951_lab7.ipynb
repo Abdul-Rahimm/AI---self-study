{
 "cells": [
  {
   "cell_type": "markdown",
   "metadata": {},
   "source": [
    "## Question 1\n",
    "\n",
    "### Two unbiased dice are thrown once and the total score is observed. Use a simulation to find the estimated probability that the total score is even or greater than 7?\n"
   ]
  },
  {
   "cell_type": "code",
   "execution_count": null,
   "metadata": {},
   "outputs": [],
   "source": [
    "import random\n",
    "\n",
    "def simulateDiceThrow():\n",
    "    dice1 = random.randint(1, 6)\n",
    "    dice2 = random.randint(1, 6)\n",
    "    total_score = dice1 + dice2\n",
    "    \n",
    "    return total_score\n",
    "\n",
    "def main(numIterations):\n",
    "    count_even_or_gt_7 = 0\n",
    "    \n",
    "    for i in range(numIterations):\n",
    "        total_score = simulateDiceThrow()\n",
    "        \n",
    "        if total_score % 2 == 0 or total_score > 7:\n",
    "            count_even_or_gt_7 += 1\n",
    "            \n",
    "    # estimated probability\n",
    "    probability = count_even_or_gt_7 / numIterations\n",
    "    return probability\n",
    "\n",
    "numIterations = int(input(\"Please enter number of iterations: \"))\n",
    "estimated_probability = main(numIterations)\n",
    "\n",
    "print(\"Estimated probability:\", estimated_probability)\n"
   ]
  },
  {
   "cell_type": "markdown",
   "metadata": {},
   "source": [
    "### A box contains 10 white balls, 20 reds and 30 greens. Draw 5 balls with replacement… what is the probability that: \n",
    "- 3 white or 2 red\n",
    "- All 5 are the same color\n"
   ]
  },
  {
   "cell_type": "code",
   "execution_count": null,
   "metadata": {},
   "outputs": [],
   "source": [
    "# 10 white 20 red 30 green\n",
    "# draw 5 WITH REPLACEMENT   \n",
    "\n",
    "# a. 3 white and 2 red\n",
    "# b. all 5 same color\n",
    "\n",
    "def partA():    # 2 red and 3 white\n",
    "    total_balls = 60\n",
    "    prob_white = 10 / total_balls  \n",
    "    prob_red = 20 / total_balls  \n",
    "\n",
    "    # probability of drawing exactly 3 white balls\n",
    "    prob_3_white = prob_white ** 3\n",
    "\n",
    "    # probability of drawing exactly 2 red balls\n",
    "    prob_2_red = prob_red ** 2\n",
    "\n",
    "    return prob_3_white + prob_2_red\n",
    "\n",
    "def partB():\n",
    "    total_balls = 60\n",
    "    # indiviual probablities\n",
    "    prob_white = 10 / total_balls  \n",
    "    prob_red = 20 / total_balls  \n",
    "    prob_green = 30 / total_balls  \n",
    "\n",
    "    # Probability of drawing all 5 balls of the same color\n",
    "    partB_allsame = prob_white ** 5 + prob_red ** 5 + prob_green ** 5\n",
    "    return partB_allsame\n",
    "\n",
    "# Calculate probabilities\n",
    "partA3w2r = partA()\n",
    "partB_allsame = partB()\n",
    "\n",
    "print(\"Probability of part A:\", partA3w2r)\n",
    "print(\"Probability of part B:\", partB_allsame)\n"
   ]
  },
  {
   "cell_type": "markdown",
   "metadata": {},
   "source": [
    "#### The sample space for four sibling children. \n",
    "#### Each row in the sample space contains 1 of 16 possible outcomes. \n",
    "#### Every outcome represents a unique combination of four children.\n",
    "- Calculate the probability of two boys.\n"
   ]
  },
  {
   "cell_type": "markdown",
   "metadata": {},
   "source": [
    "1. BBBB\n",
    "2. BBBG\n",
    "3. BBGB\n",
    "4. BGBB\n",
    "5. GBGB\n",
    "6. GBBB\n",
    "7. BGGB\n",
    "8. BGBG\n",
    "9. GBGB\n",
    "10. GBGG\n",
    "11. GGGB\n",
    "12. GGBG\n",
    "13. GGBG\n",
    "14. GGGB\n",
    "15. GGGB\n",
    "16. GGGG\n"
   ]
  },
  {
   "cell_type": "markdown",
   "metadata": {},
   "source": [
    "#### P(Two boys)=  Total number of outcomes / Number of outcomes with two boys \n",
    "#### = 6/16 = 0.375"
   ]
  },
  {
   "cell_type": "code",
   "execution_count": null,
   "metadata": {},
   "outputs": [],
   "source": [
    "# first of all generate the sample space\n",
    "# then count the frequency of those rows which have exactly two boys\n",
    "# output twoBoys / total rows\n",
    "\n",
    "# Probability of having two boys among four siblings\n",
    "probability_two_boys = 6 / 16\n",
    "\n",
    "print(\"Probability of having two boys among four siblings: \", probability_two_boys)\n"
   ]
  },
  {
   "cell_type": "markdown",
   "metadata": {},
   "source": [
    "#### A coin is tossed twice. What is the probability that at least 1 head occurs?  \n",
    "\n",
    "- The sample space for this experiment is S = {HH, HT, TH, TT}.\n"
   ]
  },
  {
   "cell_type": "code",
   "execution_count": null,
   "metadata": {},
   "outputs": [],
   "source": [
    "# probablity of compliment will also need to be calculated\n",
    "\n",
    "\n",
    "numberOfHeads = 1 / 4\n",
    "\n",
    "# Probability of at least one head occurring\n",
    "probablityOneHeadAtleast = 1 - numberOfHeads\n",
    "\n",
    "print(\"Probability of at least one head occurring:\", probablityOneHeadAtleast)\n"
   ]
  },
  {
   "cell_type": "markdown",
   "metadata": {},
   "source": [
    "#### A die is loaded in such a way that an even number is twice as likely to occur as an odd number. \n",
    "\n",
    "- If E is the event that a number less than 4 occurs on a single toss of the die, find P (E).\n"
   ]
  },
  {
   "cell_type": "code",
   "execution_count": null,
   "metadata": {},
   "outputs": [],
   "source": [
    "# even = 2(odd)\n",
    "# prob of an odd number\n",
    "prob_odd = 1 / 6\n",
    "\n",
    "# prob of an even number\n",
    "prob_even = 2 / 6\n",
    "\n",
    "# prob of event E ( a number less than 4)\n",
    "prob_E = prob_odd + prob_even\n",
    "\n",
    "print(\"prob of (event E):\", prob_E)\n"
   ]
  },
  {
   "cell_type": "markdown",
   "metadata": {},
   "source": [
    "#### Let A be the event that an even number turns up and let B be the event that a number divisible by 3 occurs. \n",
    "- Find P (A ∪ B) and P (A ∩ B).\n"
   ]
  },
  {
   "cell_type": "code",
   "execution_count": null,
   "metadata": {},
   "outputs": [],
   "source": [
    "# Probability of event A (even number turns up)\n",
    "prob_a = 1 / 3\n",
    "\n",
    "# Probability of event B (number divisible by 3 occurs)\n",
    "prob_b = 1 / 3\n",
    "\n",
    "# Probability of intersection of events A and B\n",
    "prob_a_and_b = 1 / 6\n",
    "\n",
    "# Probability of union of events A and B\n",
    "prob_a_or_b = prob_a + prob_b - prob_a_and_b\n",
    "\n",
    "print(\"Probability of A union B:\", prob_a_or_b)\n",
    "print(\"Probability of A intersection B:\", prob_a_and_b)\n"
   ]
  },
  {
   "cell_type": "markdown",
   "metadata": {},
   "source": [
    "#### A manufacturing firm employs three analytical plans for the design and development of a particular product. For cost reasons, all three are used at varying times. \n",
    "\n",
    "In fact, plans 1, 2, and 3 are used for 30%, 20%, and 50% of the products, respectively. The defect rate is different for the three procedures as follows: P(D|P1)=0.01, P(D|P2)=0.03, P(D|P3)=0.02, where P(D|Pj ) is the probability of a defective product, given plan j. If a random product was observed and found to be defective, which plan was most likely used and thus responsible?\n",
    "\n"
   ]
  },
  {
   "cell_type": "code",
   "execution_count": null,
   "metadata": {},
   "outputs": [],
   "source": [
    "# bayes thoeum\n",
    "\n",
    "# Given probabilities\n",
    "P_P1 = 0.30  \n",
    "P_P2 = 0.20  \n",
    "P_P3 = 0.50 \n",
    "\n",
    "probablityDefect_Givenplan1 = 0.01 \n",
    "probablityDefect_Givenplan2 = 0.03 \n",
    "probablityDefect_Givenplan3 = 0.02  \n",
    "\n",
    "# total probability of a defective product\n",
    "P_D = probablityDefect_Givenplan1 * P_P1 + probablityDefect_Givenplan2 * P_P2 + probablityDefect_Givenplan3 * P_P3\n",
    "\n",
    "#bayes thoerum applied\n",
    "P_P1_given_D = (probablityDefect_Givenplan1 * P_P1) / P_D\n",
    "P_P2_given_D = (probablityDefect_Givenplan2 * P_P2) / P_D\n",
    "P_P3_given_D = (probablityDefect_Givenplan3 * P_P3) / P_D\n",
    "\n",
    "\n",
    "most_likely_plan = max(P_P1_given_D, P_P2_given_D, P_P3_given_D)\n",
    "\n",
    "if most_likely_plan == P_P1_given_D:\n",
    "    print(\"Plan 1 is most likely responsible.\")\n",
    "elif most_likely_plan == P_P2_given_D:\n",
    "    print(\"Plan 2 is most likely responsible.\")\n",
    "else:\n",
    "    print(\"Plan 3 is most likely responsible.\")\n"
   ]
  },
  {
   "cell_type": "markdown",
   "metadata": {},
   "source": [
    "The End"
   ]
  }
 ],
 "metadata": {
  "kernelspec": {
   "display_name": "Python 3",
   "language": "python",
   "name": "python3"
  },
  "language_info": {
   "codemirror_mode": {
    "name": "ipython",
    "version": 3
   },
   "file_extension": ".py",
   "mimetype": "text/x-python",
   "name": "python",
   "nbconvert_exporter": "python",
   "pygments_lexer": "ipython3",
   "version": "3.12.1"
  }
 },
 "nbformat": 4,
 "nbformat_minor": 2
}
